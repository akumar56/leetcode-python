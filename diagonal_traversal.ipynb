{
 "cells": [
  {
   "cell_type": "code",
   "execution_count": 1,
   "metadata": {},
   "outputs": [
    {
     "name": "stdout",
     "output_type": "stream",
     "text": [
      "\n",
      "\n",
      "\n",
      "\n",
      "\n",
      "\n",
      "\n",
      "\n",
      "\n",
      "\n",
      "\n",
      "\n",
      "\n",
      "\n",
      "\n",
      "['w']\n"
     ]
    }
   ],
   "source": [
    "a = [\"flower\",\"flow\",\"flight\",\"florence\",\"floor\"]\n",
    "c=[]\n",
    "output=[]\n",
    "for words in a:\n",
    "    b=len(words)\n",
    "    c.append(b)\n",
    "#d=c.index(min(c))\n",
    "x = a[c.index(min(c))]\n",
    "y=list(x)\n",
    "\n",
    "for word in y:\n",
    "    \n",
    "    prefix=word[0]\n",
    "    #print(prefix)\n",
    "    #for words in a:\n",
    "    for i in range(0,len(a)):\n",
    "        g=a[i]\n",
    "        letter = g[0]\n",
    "        if prefix == g[0]:\n",
    "            continue\n",
    "        else:\n",
    "                print(\"\")\n",
    "                \n",
    "output.append(prefix)\n",
    "print(output)\n",
    "                \n",
    "                \n",
    "                       \n",
    "            \n",
    "\n",
    "\n",
    "\n",
    "\n",
    "\n",
    "\n",
    "    \n",
    "\n"
   ]
  },
  {
   "cell_type": "code",
   "execution_count": 101,
   "metadata": {},
   "outputs": [
    {
     "name": "stdout",
     "output_type": "stream",
     "text": [
      "e\n"
     ]
    }
   ],
   "source": [
    "a = [\"flower\",\"flow\",\"flight\",\"florence\",\"floor\"]\n",
    "output=[]\n",
    "\n"
   ]
  },
  {
   "cell_type": "code",
   "execution_count": 1,
   "metadata": {},
   "outputs": [
    {
     "name": "stdout",
     "output_type": "stream",
     "text": [
      "f\n"
     ]
    }
   ],
   "source": [
    "\n",
    "        \n",
    "            \n",
    "        \n",
    "        \n"
   ]
  },
  {
   "cell_type": "code",
   "execution_count": 7,
   "metadata": {},
   "outputs": [
    {
     "name": "stdout",
     "output_type": "stream",
     "text": [
      "f\n"
     ]
    }
   ],
   "source": [
    "a = [\"flower\",\"flow\",\"flight\",\"florence\",\"floor\"]\n",
    "print(a[1][0])"
   ]
  },
  {
   "cell_type": "code",
   "execution_count": null,
   "metadata": {},
   "outputs": [],
   "source": []
  },
  {
   "cell_type": "code",
   "execution_count": null,
   "metadata": {},
   "outputs": [],
   "source": [
    "a = [\"flower\",\"flow\",\"flight\",\"florence\",\"floor\"]\n",
    "output = []\n",
    "min_len=len(a[0])\n",
    "for words in a:\n",
    "    if len(words)<min_len:\n",
    "        min_len=len(words)\n",
    "for i in range(0,min_len):\n",
    "    temp = a[1][i]\n",
    "    for words in a:\n",
    "        if words[i] != temp\n",
    "            return output\n",
    "    output[i] = temp\n",
    "    \n",
    "return output"
   ]
  }
 ],
 "metadata": {
  "kernelspec": {
   "display_name": "Python 3",
   "language": "python",
   "name": "python3"
  },
  "language_info": {
   "codemirror_mode": {
    "name": "ipython",
    "version": 3
   },
   "file_extension": ".py",
   "mimetype": "text/x-python",
   "name": "python",
   "nbconvert_exporter": "python",
   "pygments_lexer": "ipython3",
   "version": "3.6.5"
  }
 },
 "nbformat": 4,
 "nbformat_minor": 2
}
