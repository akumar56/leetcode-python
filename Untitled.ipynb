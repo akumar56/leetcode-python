{
 "cells": [
  {
   "cell_type": "code",
   "execution_count": 20,
   "metadata": {},
   "outputs": [
    {
     "name": "stdout",
     "output_type": "stream",
     "text": [
      "-1\n"
     ]
    }
   ],
   "source": [
    "input = [1,2,3,4,1,2,3,5,47]\n",
    "y = len(input)\n",
    "for x in range(len(input)):\n",
    "    a = sum(input[0:x])\n",
    "    b = sum(input[x+1:y+1])\n",
    "    if a == b:\n",
    "        print(input[x])\n",
    "        z = 0\n",
    "        break\n",
    "    else:\n",
    "        z = 1\n",
    "if z == 1:\n",
    "    print(-1)\n",
    "    \n",
    "\n",
    "\n",
    "    \n",
    "\n",
    "\n",
    "    "
   ]
  },
  {
   "cell_type": "code",
   "execution_count": 21,
   "metadata": {},
   "outputs": [],
   "source": [
    "class Solution(object):\n",
    "    def pivotIndex(self, nums):\n",
    "        \"\"\"\n",
    "        :type nums: List[int]\n",
    "        :rtype: int\n",
    "        \"\"\"\n",
    "        y = len(nums)\n",
    "        if y==0:\n",
    "            return -1\n",
    "        else:\n",
    "            for x in range(len(nums)):\n",
    "                a = sum(nums[0:x])\n",
    "                b = sum(nums[x+1:y+1])\n",
    "                if a == b:\n",
    "                    return x     \n",
    "            return -1\n",
    "\n",
    "\n"
   ]
  },
  {
   "cell_type": "code",
   "execution_count": 27,
   "metadata": {},
   "outputs": [
    {
     "name": "stdout",
     "output_type": "stream",
     "text": [
      "1\n",
      "1\n",
      "1\n",
      "1\n",
      "1\n",
      "1\n",
      "1\n",
      "1\n"
     ]
    }
   ],
   "source": [
    "y = [1,2,3,4,5,6,7,8,9]\n",
    "for i in range(len(y)-1):\n",
    "    print(\"1\")"
   ]
  },
  {
   "cell_type": "code",
   "execution_count": 37,
   "metadata": {},
   "outputs": [],
   "source": [
    "class Solution(object):\n",
    "    def pivotIndex(self, nums):\n",
    "        \"\"\"\n",
    "        :type nums: List[int]\n",
    "        :rtype: int\n",
    "        \"\"\"\n",
    "        y = len(nums)\n",
    "        if y==0:\n",
    "            return -1\n",
    "        x = sum(nums)\n",
    "        left_sum = 0\n",
    "        right_sum = x - nums[0]\n",
    "        if left_sum == right_sum:\n",
    "            return x\n",
    "        \n",
    "        for i in range(1,len(nums)):\n",
    "            left_sum = left_sum - nums[i]\n",
    "            right_sum = x - nums[i]\n",
    "            if left_sum == right_sum:\n",
    "                return nums[i] \n",
    "                exit()\n",
    "            else:\n",
    "                return -1\n",
    "\n"
   ]
  },
  {
   "cell_type": "code",
   "execution_count": 43,
   "metadata": {},
   "outputs": [
    {
     "name": "stdout",
     "output_type": "stream",
     "text": [
      "1\n",
      "2\n",
      "3\n",
      "4\n"
     ]
    }
   ],
   "source": [
    "\n",
    "for i in range(1,5):\n",
    "    print (i)\n",
    "    "
   ]
  },
  {
   "cell_type": "code",
   "execution_count": 2,
   "metadata": {},
   "outputs": [],
   "source": [
    "class Node:\n",
    "    def __init__(self,val):\n",
    "        self.val=val\n",
    "        self.next=None\n",
    "node1=Node(2)\n",
    "node2=Node(3)\n",
    "node3=Node(4)\n",
    "\n",
    "node1.next=node2\n",
    "node2.next=node3\n",
    "\n"
   ]
  },
  {
   "cell_type": "code",
   "execution_count": 3,
   "metadata": {},
   "outputs": [
    {
     "name": "stdout",
     "output_type": "stream",
     "text": [
      "2\n",
      "3\n",
      "4\n"
     ]
    }
   ],
   "source": [
    "def traverse(self):\n",
    "    temp=self\n",
    "    while temp!=None:\n",
    "        print(temp.val)\n",
    "        temp=temp.next\n",
    "traverse(node1)"
   ]
  },
  {
   "cell_type": "code",
   "execution_count": null,
   "metadata": {},
   "outputs": [],
   "source": []
  }
 ],
 "metadata": {
  "kernelspec": {
   "display_name": "Python 3",
   "language": "python",
   "name": "python3"
  },
  "language_info": {
   "codemirror_mode": {
    "name": "ipython",
    "version": 3
   },
   "file_extension": ".py",
   "mimetype": "text/x-python",
   "name": "python",
   "nbconvert_exporter": "python",
   "pygments_lexer": "ipython3",
   "version": "3.6.5"
  }
 },
 "nbformat": 4,
 "nbformat_minor": 2
}
