{
 "cells": [
  {
   "cell_type": "code",
   "execution_count": 14,
   "metadata": {},
   "outputs": [
    {
     "name": "stdout",
     "output_type": "stream",
     "text": [
      "2\n",
      "3\n",
      "3\n"
     ]
    }
   ],
   "source": [
    "\n",
    "class Node:\n",
    "    def __init__(self,val):\n",
    "        self.value=val\n",
    "        self.next=None\n",
    "        self.previous=None\n",
    "node1=Node(2)\n",
    "node3=Node(3)\n",
    "node4=Node(4)\n",
    "node1.next=node2\n",
    "node1.previous=None\n",
    "node2.next=node3\n",
    "node2.previous=node1\n",
    "node3.next=None\n",
    "node3.previous=node2\n",
    "def traverse(node):\n",
    "    while node!=None:\n",
    "        print(node.value)\n",
    "        node=node.next\n",
    "\n",
    "\n",
    "\n",
    "def insert(prev, val):\n",
    "    new_node = Node(val)\n",
    "    new_node.next = prev.next\n",
    "    prev.next=new_node\n",
    "    new_node.previous=prev\n",
    "    \n",
    "#insert(node2,5)\n",
    "traverse(node1)\n",
    "\n",
    "    "
   ]
  },
  {
   "cell_type": "code",
   "execution_count": null,
   "metadata": {},
   "outputs": [],
   "source": []
  },
  {
   "cell_type": "code",
   "execution_count": null,
   "metadata": {},
   "outputs": [],
   "source": []
  },
  {
   "cell_type": "code",
   "execution_count": null,
   "metadata": {},
   "outputs": [],
   "source": []
  }
 ],
 "metadata": {
  "kernelspec": {
   "display_name": "Python 3",
   "language": "python",
   "name": "python3"
  },
  "language_info": {
   "codemirror_mode": {
    "name": "ipython",
    "version": 3
   },
   "file_extension": ".py",
   "mimetype": "text/x-python",
   "name": "python",
   "nbconvert_exporter": "python",
   "pygments_lexer": "ipython3",
   "version": "3.6.5"
  }
 },
 "nbformat": 4,
 "nbformat_minor": 2
}
