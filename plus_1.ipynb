{
 "cells": [
  {
   "cell_type": "code",
   "execution_count": 44,
   "metadata": {},
   "outputs": [
    {
     "name": "stdout",
     "output_type": "stream",
     "text": [
      "[1, 2, 3, 5]\n"
     ]
    }
   ],
   "source": [
    "nums = [1,2,3,4]\n",
    "y = len(nums)\n",
    "nums_1 = []\n",
    "for z in range(1,y):\n",
    "    x = 10**(y-z)\n",
    "    \n",
    "    nums_1.append(x)\n",
    "    #for i in range(0,y-1):\n",
    "     #   nums_1.append(x*nums[i])\n",
    "nums_1.append(1)\n",
    "nums_2 = []\n",
    "for i in range(0,y):\n",
    "    nums_2.append(nums[i]*nums_1[i])\n",
    "theSum = 0\n",
    "for i in nums_2:\n",
    "    theSum = theSum + i\n",
    "theSum = theSum + 1\n",
    "nums = [int(d) for d in str(theSum) ]\n",
    "\n",
    "print(nums)"
   ]
  },
  {
   "cell_type": "code",
   "execution_count": 39,
   "metadata": {},
   "outputs": [
    {
     "name": "stdout",
     "output_type": "stream",
     "text": [
      "10\n"
     ]
    }
   ],
   "source": [
    "numList = [1,2,3,4]\n",
    "theSum = 0\n",
    "for i in numList:\n",
    "    theSum = theSum + i\n",
    "print(theSum)\n"
   ]
  },
  {
   "cell_type": "code",
   "execution_count": 47,
   "metadata": {},
   "outputs": [
    {
     "name": "stdout",
     "output_type": "stream",
     "text": [
      "[1, 2, 3, 5]\n"
     ]
    }
   ],
   "source": [
    "        digits=[1,2,3,4]\n",
    "        y = len(digits)\n",
    "        nums_1 = []\n",
    "        for z in range(1,y):\n",
    "            x = 10**(y-z)\n",
    "    \n",
    "            nums_1.append(x)\n",
    "   \n",
    "        nums_1.append(1)\n",
    "        nums_2 = []\n",
    "        for i in range(0,y):\n",
    "            nums_2.append(digits[i]*nums_1[i])\n",
    "        theSum = 0\n",
    "        for i in nums_2:\n",
    "            theSum = theSum + i\n",
    "        theSum = theSum + 1\n",
    "        digits = [int(d) for d in str(theSum) ]\n",
    "        print(digits)"
   ]
  },
  {
   "cell_type": "code",
   "execution_count": null,
   "metadata": {},
   "outputs": [],
   "source": []
  }
 ],
 "metadata": {
  "kernelspec": {
   "display_name": "Python 3",
   "language": "python",
   "name": "python3"
  },
  "language_info": {
   "codemirror_mode": {
    "name": "ipython",
    "version": 3
   },
   "file_extension": ".py",
   "mimetype": "text/x-python",
   "name": "python",
   "nbconvert_exporter": "python",
   "pygments_lexer": "ipython3",
   "version": "3.6.5"
  }
 },
 "nbformat": 4,
 "nbformat_minor": 2
}
