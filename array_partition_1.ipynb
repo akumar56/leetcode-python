{
 "cells": [
  {
   "cell_type": "code",
   "execution_count": 57,
   "metadata": {},
   "outputs": [
    {
     "name": "stdout",
     "output_type": "stream",
     "text": [
      "[2711, 5134, 5511]\n",
      "5134\n"
     ]
    },
    {
     "data": {
      "text/plain": [
       "-337"
      ]
     },
     "execution_count": 57,
     "metadata": {},
     "output_type": "execute_result"
    }
   ],
   "source": [
    "def partition(nums):\n",
    "    if len(nums)==0:\n",
    "        return 0\n",
    "    y=[]\n",
    "    z=[]\n",
    "    i=0\n",
    "    temp=0\n",
    "    \n",
    "    nums.sort()\n",
    "    while nums[i]<0:\n",
    "        y.append(nums[i])\n",
    "        nums.remove(nums[i])\n",
    "        if i==len(nums):\n",
    "            break\n",
    "    print(nums)\n",
    "    #print(y)\n",
    "    if len(nums)%2==0:\n",
    "        \n",
    "        for i in range(0,len(nums),2):ama\n",
    "            temp+=nums[i]\n",
    "    elif len(nums)%2==1 and len(y)==1:\n",
    "        nums.remove(nums[0])\n",
    "        for i in range(0,len(nums)-1,2):\n",
    "            temp+=nums[i]\n",
    "    print(temp)    \n",
    "    if len(y)<=2:\n",
    "        z.append(min(y))\n",
    "    else:\n",
    "        for j in range(int(len(y)/2),len(y)):\n",
    "            z.append(y[j])\n",
    "        \n",
    "    \n",
    "    ans=sum(z)+temp\n",
    "    return ans\n",
    "\n",
    "partition([5511, -5471, 2711, 5134])\n",
    "        \n",
    "        \n",
    "        \n",
    "   \n",
    "        \n",
    "        "
   ]
  },
  {
   "cell_type": "code",
   "execution_count": 11,
   "metadata": {},
   "outputs": [
    {
     "name": "stdout",
     "output_type": "stream",
     "text": [
      "[1, 2, 3, 4, 5, 6] [-2, -1]\n"
     ]
    }
   ],
   "source": [
    "nums=[-1,1,2,3,-2,4,5,6]\n",
    "y=[]\n",
    "i=0\n",
    "nums.sort()\n",
    "while nums[i]<0:\n",
    "    y.append(nums[i])\n",
    "    nums.remove(nums[i])\n"
   ]
  },
  {
   "cell_type": "code",
   "execution_count": 51,
   "metadata": {},
   "outputs": [
    {
     "name": "stdout",
     "output_type": "stream",
     "text": [
      "0\n",
      "2\n"
     ]
    }
   ],
   "source": [
    "for x in range(0,3,2):\n",
    "    print(x)"
   ]
  },
  {
   "cell_type": "code",
   "execution_count": null,
   "metadata": {},
   "outputs": [],
   "source": []
  }
 ],
 "metadata": {
  "kernelspec": {
   "display_name": "Python 3",
   "language": "python",
   "name": "python3"
  },
  "language_info": {
   "codemirror_mode": {
    "name": "ipython",
    "version": 3
   },
   "file_extension": ".py",
   "mimetype": "text/x-python",
   "name": "python",
   "nbconvert_exporter": "python",
   "pygments_lexer": "ipython3",
   "version": "3.6.5"
  }
 },
 "nbformat": 4,
 "nbformat_minor": 2
}
