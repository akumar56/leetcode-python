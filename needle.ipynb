{
 "cells": [
  {
   "cell_type": "code",
   "execution_count": 43,
   "metadata": {},
   "outputs": [
    {
     "name": "stdout",
     "output_type": "stream",
     "text": [
      "3\n"
     ]
    },
    {
     "data": {
      "text/plain": [
       "4"
      ]
     },
     "execution_count": 43,
     "metadata": {},
     "output_type": "execute_result"
    }
   ],
   "source": [
    "def abc(haystack,needle):\n",
    "\n",
    "    x=0\n",
    "    i=0\n",
    "    temp=0\n",
    "    count=0\n",
    "    if len(haystack)==0:\n",
    "        return -1\n",
    "    if len(needle)==0:\n",
    "        return 0\n",
    "    if len(needle)==0 and len(haystack)==0:\n",
    "        return 0\n",
    "    while i in range(0,len(haystack)+1):\n",
    "        #print(i)\n",
    "        i+=1\n",
    "    \n",
    "        if needle[x]==haystack[i-1]:\n",
    "            temp+=1\n",
    "            x+=1\n",
    "            #print(x)\n",
    "            if x == len(needle):\n",
    "                return i-len(needle)\n",
    "                #print(i-len(needle))\n",
    "        elif needle[x]!=haystack[i] and x>0:\n",
    "            i=i-temp+1\n",
    "            print(i)\n",
    "            temp=0\n",
    "            x=0\n",
    "        elif i==len(haystack)-1:\n",
    "            return -1\n",
    "            #print(\"-1\")\n",
    "    \n",
    "    \n",
    "abc(\"mississippi\",\"issip\")\n",
    "    \n"
   ]
  },
  {
   "cell_type": "code",
   "execution_count": 14,
   "metadata": {},
   "outputs": [
    {
     "name": "stdout",
     "output_type": "stream",
     "text": [
      "a\n"
     ]
    }
   ],
   "source": [
    "needle = \"llaaaabbb\"\n",
    "print(needle[2])"
   ]
  },
  {
   "cell_type": "code",
   "execution_count": 2,
   "metadata": {},
   "outputs": [
    {
     "name": "stdout",
     "output_type": "stream",
     "text": [
      "0\n"
     ]
    }
   ],
   "source": [
    "x=\"\"\n",
    "print(len(x))"
   ]
  },
  {
   "cell_type": "code",
   "execution_count": 29,
   "metadata": {},
   "outputs": [
    {
     "name": "stdout",
     "output_type": "stream",
     "text": [
      "2\n",
      "4\n",
      "6\n",
      "8\n",
      "10\n",
      "12\n",
      "14\n",
      "16\n",
      "18\n",
      "20\n"
     ]
    }
   ],
   "source": [
    "i=0\n",
    "while i<20:\n",
    "    i=i+2\n",
    "    \n",
    "    print(i)"
   ]
  },
  {
   "cell_type": "code",
   "execution_count": null,
   "metadata": {},
   "outputs": [],
   "source": []
  }
 ],
 "metadata": {
  "kernelspec": {
   "display_name": "Python 3",
   "language": "python",
   "name": "python3"
  },
  "language_info": {
   "codemirror_mode": {
    "name": "ipython",
    "version": 3
   },
   "file_extension": ".py",
   "mimetype": "text/x-python",
   "name": "python",
   "nbconvert_exporter": "python",
   "pygments_lexer": "ipython3",
   "version": "3.6.5"
  }
 },
 "nbformat": 4,
 "nbformat_minor": 2
}
