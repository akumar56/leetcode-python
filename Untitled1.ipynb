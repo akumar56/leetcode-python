{
 "cells": [
  {
   "cell_type": "code",
   "execution_count": 1,
   "metadata": {},
   "outputs": [
    {
     "name": "stdout",
     "output_type": "stream",
     "text": [
      "9\n"
     ]
    }
   ],
   "source": [
    "x = [1,2,3,4,5,6,7,8,9]\n"
   ]
  },
  {
   "cell_type": "code",
   "execution_count": 4,
   "metadata": {},
   "outputs": [
    {
     "ename": "SyntaxError",
     "evalue": "'return' outside function (<ipython-input-4-6c4ac268c7c0>, line 2)",
     "output_type": "error",
     "traceback": [
      "\u001b[1;36m  File \u001b[1;32m\"<ipython-input-4-6c4ac268c7c0>\"\u001b[1;36m, line \u001b[1;32m2\u001b[0m\n\u001b[1;33m    return -1\u001b[0m\n\u001b[1;37m    ^\u001b[0m\n\u001b[1;31mSyntaxError\u001b[0m\u001b[1;31m:\u001b[0m 'return' outside function\n"
     ]
    }
   ],
   "source": [
    "\n",
    "if len(nums) == 0:\n",
    "    return -1\n",
    "if len(nums) == 1:\n",
    "    return 0\n",
    "x = max(nums)\n",
    "        \n",
    "nums_1 = nums.remove(x)\n",
    "y = max(nums_1)\n",
    "if x>2*y:\n",
    "    return nums.index(x)\n",
    "else:\n",
    "    return -1"
   ]
  },
  {
   "cell_type": "code",
   "execution_count": 18,
   "metadata": {},
   "outputs": [
    {
     "name": "stdout",
     "output_type": "stream",
     "text": [
      "8\n"
     ]
    }
   ],
   "source": [
    "nums = [1,2,3,4,5,6,7,8,9]\n",
    "x = max(nums)\n",
    "y = nums.index(x)\n",
    "z = nums.pop(y)\n",
    "print(y)"
   ]
  },
  {
   "cell_type": "code",
   "execution_count": 22,
   "metadata": {},
   "outputs": [
    {
     "name": "stdout",
     "output_type": "stream",
     "text": [
      "[1, 2, 3, 4, 5, 6, 7, 8]\n"
     ]
    }
   ],
   "source": [
    "nums = [1,2,3,4,5,6,7,8,9]\n",
    "x = max(nums)\n",
    "nums_1 = nums\n",
    "nums_1.remove(x)\n",
    "print(nums_1)"
   ]
  },
  {
   "cell_type": "code",
   "execution_count": 35,
   "metadata": {},
   "outputs": [
    {
     "name": "stdout",
     "output_type": "stream",
     "text": [
      "3\n"
     ]
    }
   ],
   "source": [
    "nums = [1,2,3,8]\n",
    "x = max(nums)\n",
    "nums_1 = list(nums)\n",
    "nums_1.remove(x)\n",
    "y = max(nums_1)\n",
    "if x>2*y:\n",
    "    i = nums.index(x)\n",
    "    print(i)\n",
    "else:\n",
    "    print(-1) "
   ]
  },
  {
   "cell_type": "code",
   "execution_count": 3,
   "metadata": {},
   "outputs": [
    {
     "ename": "ModuleNotFoundError",
     "evalue": "No module named 'pygtk'",
     "output_type": "error",
     "traceback": [
      "\u001b[1;31m---------------------------------------------------------------------------\u001b[0m",
      "\u001b[1;31mModuleNotFoundError\u001b[0m                       Traceback (most recent call last)",
      "\u001b[1;32m<ipython-input-3-abae0ee8b16e>\u001b[0m in \u001b[0;36m<module>\u001b[1;34m()\u001b[0m\n\u001b[1;32m----> 1\u001b[1;33m \u001b[1;32mimport\u001b[0m \u001b[0mpygtk\u001b[0m\u001b[1;33m\u001b[0m\u001b[0m\n\u001b[0m\u001b[0;32m      2\u001b[0m \u001b[0mpygtk\u001b[0m\u001b[1;33m.\u001b[0m\u001b[0mrequire\u001b[0m\u001b[1;33m(\u001b[0m\u001b[1;34m'2.0'\u001b[0m\u001b[1;33m)\u001b[0m\u001b[1;33m\u001b[0m\u001b[0m\n\u001b[0;32m      3\u001b[0m \u001b[1;32mimport\u001b[0m \u001b[0mgtk\u001b[0m\u001b[1;33m\u001b[0m\u001b[0m\n\u001b[0;32m      4\u001b[0m \u001b[1;32mimport\u001b[0m \u001b[0murllib2\u001b[0m\u001b[1;33m\u001b[0m\u001b[0m\n\u001b[0;32m      5\u001b[0m \u001b[1;33m\u001b[0m\u001b[0m\n",
      "\u001b[1;31mModuleNotFoundError\u001b[0m: No module named 'pygtk'"
     ]
    }
   ],
   "source": [
    "import pygtk\n",
    "pygtk.require('2.0')\n",
    "import gtk\n",
    "import urllib2\n",
    "\n",
    "class MainWin:\n",
    "\n",
    "    def destroy(self, widget, data=None):\n",
    "        print (\"destroy signal occurred\")\n",
    "        gtk.main_quit()\n",
    "\n",
    "    def __init__(self):\n",
    "        self.window = gtk.Window(gtk.WINDOW_TOPLEVEL)\n",
    "        self.window.connect(\"destroy\", self.destroy)\n",
    "        self.window.set_border_width(10)\n",
    "        self.image=gtk.Image()\n",
    "        response=urllib2.urlopen(\n",
    "            'http://www.dailygalaxy.com/photos/uncategorized/2007/05/05/planet_x.jpg')\n",
    "        loader=gtk.gdk.PixbufLoader()\n",
    "        loader.write(response.read())\n",
    "        loader.close()        \n",
    "        self.image.set_from_pixbuf(loader.get_pixbuf())\n",
    "        # This does the same thing, but by saving to a file\n",
    "        # fname='/tmp/planet_x.jpg'\n",
    "        # with open(fname,'w') as f:\n",
    "        #     f.write(response.read())\n",
    "        # self.image.set_from_file(fname)\n",
    "        self.window.add(self.image)\n",
    "        self.image.show()\n",
    "        self.window.show()\n",
    "\n",
    "    def main(self):\n",
    "        gtk.main()"
   ]
  },
  {
   "cell_type": "code",
   "execution_count": null,
   "metadata": {},
   "outputs": [],
   "source": []
  }
 ],
 "metadata": {
  "kernelspec": {
   "display_name": "Python 3",
   "language": "python",
   "name": "python3"
  },
  "language_info": {
   "codemirror_mode": {
    "name": "ipython",
    "version": 3
   },
   "file_extension": ".py",
   "mimetype": "text/x-python",
   "name": "python",
   "nbconvert_exporter": "python",
   "pygments_lexer": "ipython3",
   "version": "3.6.5"
  }
 },
 "nbformat": 4,
 "nbformat_minor": 2
}
